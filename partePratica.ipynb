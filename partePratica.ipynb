{
 "cells": [
  {
   "cell_type": "markdown",
   "metadata": {},
   "source": [
    "# desafioSemantix"
   ]
  },
  {
   "cell_type": "markdown",
   "metadata": {},
   "source": [
    "### Desafio Técnico - Engenheiro de Dados "
   ]
  },
  {
   "cell_type": "markdown",
   "metadata": {},
   "source": [
    "### Leonardo Damasio"
   ]
  },
  {
   "cell_type": "markdown",
   "metadata": {},
   "source": [
    "## Parte Prática"
   ]
  },
  {
   "cell_type": "markdown",
   "metadata": {},
   "source": [
    "### 0. Setup"
   ]
  },
  {
   "cell_type": "markdown",
   "metadata": {},
   "source": [
    "#### Importando bibliotecas"
   ]
  },
  {
   "cell_type": "code",
   "execution_count": 1,
   "metadata": {},
   "outputs": [],
   "source": [
    "from pyspark.sql import SparkSession\n",
    "import pandas as pd"
   ]
  },
  {
   "cell_type": "markdown",
   "metadata": {},
   "source": [
    "#### Configurando SparkSession"
   ]
  },
  {
   "cell_type": "code",
   "execution_count": 2,
   "metadata": {},
   "outputs": [],
   "source": [
    "spark = SparkSession.builder \\\n",
    "   .appName(\"desafioSemantix\") \\\n",
    "   .config(\"spark.executor.memory\", \"4gb\") \\\n",
    "   .getOrCreate()"
   ]
  },
  {
   "cell_type": "markdown",
   "metadata": {},
   "source": [
    "#### Configurando SparkContext"
   ]
  },
  {
   "cell_type": "code",
   "execution_count": 3,
   "metadata": {},
   "outputs": [],
   "source": [
    "sc = spark.sparkContext"
   ]
  },
  {
   "cell_type": "markdown",
   "metadata": {},
   "source": [
    "#### Importando RDDs"
   ]
  },
  {
   "cell_type": "code",
   "execution_count": 4,
   "metadata": {},
   "outputs": [],
   "source": [
    "jul95 = sc.textFile('data/access_log_Jul95')\n",
    "aug95 = sc.textFile('data/access_log_Aug95')"
   ]
  },
  {
   "cell_type": "markdown",
   "metadata": {},
   "source": [
    "#### Unificando em uma única RDD"
   ]
  },
  {
   "cell_type": "code",
   "execution_count": 5,
   "metadata": {},
   "outputs": [
    {
     "data": {
      "text/plain": [
       "UnionRDD[4] at union at <unknown>:0"
      ]
     },
     "execution_count": 5,
     "metadata": {},
     "output_type": "execute_result"
    }
   ],
   "source": [
    "rdd = jul95 + aug95\n",
    "rdd.cache()"
   ]
  },
  {
   "cell_type": "markdown",
   "metadata": {},
   "source": [
    "#### Amostra"
   ]
  },
  {
   "cell_type": "code",
   "execution_count": 6,
   "metadata": {},
   "outputs": [
    {
     "data": {
      "text/plain": [
       "['199.72.81.55 - - [01/Jul/1995:00:00:01 -0400] \"GET /history/apollo/ HTTP/1.0\" 200 6245',\n",
       " 'unicomp6.unicomp.net - - [01/Jul/1995:00:00:06 -0400] \"GET /shuttle/countdown/ HTTP/1.0\" 200 3985',\n",
       " '199.120.110.21 - - [01/Jul/1995:00:00:09 -0400] \"GET /shuttle/missions/sts-73/mission-sts-73.html HTTP/1.0\" 200 4085',\n",
       " 'burger.letters.com - - [01/Jul/1995:00:00:11 -0400] \"GET /shuttle/countdown/liftoff.html HTTP/1.0\" 304 0',\n",
       " '199.120.110.21 - - [01/Jul/1995:00:00:11 -0400] \"GET /shuttle/missions/sts-73/sts-73-patch-small.gif HTTP/1.0\" 200 4179',\n",
       " 'burger.letters.com - - [01/Jul/1995:00:00:12 -0400] \"GET /images/NASA-logosmall.gif HTTP/1.0\" 304 0',\n",
       " 'burger.letters.com - - [01/Jul/1995:00:00:12 -0400] \"GET /shuttle/countdown/video/livevideo.gif HTTP/1.0\" 200 0',\n",
       " '205.212.115.106 - - [01/Jul/1995:00:00:12 -0400] \"GET /shuttle/countdown/countdown.html HTTP/1.0\" 200 3985',\n",
       " 'd104.aa.net - - [01/Jul/1995:00:00:13 -0400] \"GET /shuttle/countdown/ HTTP/1.0\" 200 3985',\n",
       " '129.94.144.152 - - [01/Jul/1995:00:00:13 -0400] \"GET / HTTP/1.0\" 200 7074']"
      ]
     },
     "execution_count": 6,
     "metadata": {},
     "output_type": "execute_result"
    }
   ],
   "source": [
    "rdd.take(10)"
   ]
  },
  {
   "cell_type": "markdown",
   "metadata": {},
   "source": [
    "### 1. Número de hosts únicos."
   ]
  },
  {
   "cell_type": "markdown",
   "metadata": {},
   "source": [
    "#### Realizando contagem"
   ]
  },
  {
   "cell_type": "code",
   "execution_count": 7,
   "metadata": {},
   "outputs": [
    {
     "data": {
      "text/plain": [
       "PythonRDD[10] at RDD at PythonRDD.scala:53"
      ]
     },
     "execution_count": 7,
     "metadata": {},
     "output_type": "execute_result"
    }
   ],
   "source": [
    "hosts = rdd.map(lambda line: line.split(\" \")[0]) \\\n",
    "    .map(lambda value: (value, 1)) \\\n",
    "    .reduceByKey(lambda a,b: a+b) \n",
    "\n",
    "hosts.cache()"
   ]
  },
  {
   "cell_type": "markdown",
   "metadata": {},
   "source": [
    "#### Amostra da contagem"
   ]
  },
  {
   "cell_type": "code",
   "execution_count": 8,
   "metadata": {},
   "outputs": [
    {
     "data": {
      "text/plain": [
       "[('unicomp6.unicomp.net', 14),\n",
       " ('dial22.lloyd.com', 4),\n",
       " ('www-a1.proxy.aol.com', 6661),\n",
       " ('dave.dev1.ihub.com', 4),\n",
       " ('brandt.xensei.com', 80),\n",
       " ('dnet018.sat.texas.net', 71),\n",
       " ('166.79.67.111', 17),\n",
       " ('dynip38.efn.org', 17),\n",
       " ('piweba1y.prodigy.com', 12825),\n",
       " ('oahu-53.u.aloha.net', 7)]"
      ]
     },
     "execution_count": 8,
     "metadata": {},
     "output_type": "execute_result"
    }
   ],
   "source": [
    "hosts.take(10)"
   ]
  },
  {
   "cell_type": "markdown",
   "metadata": {},
   "source": [
    "#### Resultado"
   ]
  },
  {
   "cell_type": "code",
   "execution_count": 9,
   "metadata": {},
   "outputs": [
    {
     "data": {
      "text/plain": [
       "137979"
      ]
     },
     "execution_count": 9,
     "metadata": {},
     "output_type": "execute_result"
    }
   ],
   "source": [
    "Q1 = hosts.count()\n",
    "Q1"
   ]
  },
  {
   "cell_type": "markdown",
   "metadata": {},
   "source": [
    "### 2. O total de erros 404."
   ]
  },
  {
   "cell_type": "code",
   "execution_count": 10,
   "metadata": {},
   "outputs": [
    {
     "data": {
      "text/plain": [
       "PythonRDD[13] at RDD at PythonRDD.scala:53"
      ]
     },
     "execution_count": 10,
     "metadata": {},
     "output_type": "execute_result"
    }
   ],
   "source": [
    "error404 = rdd.filter(lambda line: \" 404 -\"  in line or \" 404 0\" in line)\n",
    "\n",
    "error404.cache()"
   ]
  },
  {
   "cell_type": "markdown",
   "metadata": {},
   "source": [
    "#### Resultado"
   ]
  },
  {
   "cell_type": "code",
   "execution_count": 11,
   "metadata": {},
   "outputs": [
    {
     "data": {
      "text/plain": [
       "20901"
      ]
     },
     "execution_count": 11,
     "metadata": {},
     "output_type": "execute_result"
    }
   ],
   "source": [
    "Q2 = error404.count()\n",
    "Q2"
   ]
  },
  {
   "cell_type": "markdown",
   "metadata": {},
   "source": [
    "### 3. Os 5 URLs que mais causaram erro 404."
   ]
  },
  {
   "cell_type": "code",
   "execution_count": 12,
   "metadata": {},
   "outputs": [
    {
     "data": {
      "text/plain": [
       "PythonRDD[25] at RDD at PythonRDD.scala:53"
      ]
     },
     "execution_count": 12,
     "metadata": {},
     "output_type": "execute_result"
    }
   ],
   "source": [
    "top5urls = rdd.filter(lambda line: line.split(\" \")[0] and \" 404 -\"  in line or \" 404 0\" in line) \\\n",
    "    .map(lambda line: line.split(\" \")[0]) \\\n",
    "    .map(lambda value: (value, 1)) \\\n",
    "    .reduceByKey(lambda a,b: a+b) \\\n",
    "    .sortBy(lambda x: x[1], ascending=False)\n",
    "\n",
    "top5urls.cache()"
   ]
  },
  {
   "cell_type": "markdown",
   "metadata": {},
   "source": [
    "#### Resultado"
   ]
  },
  {
   "cell_type": "code",
   "execution_count": 13,
   "metadata": {},
   "outputs": [
    {
     "data": {
      "text/plain": [
       "[('hoohoo.ncsa.uiuc.edu', 251),\n",
       " ('piweba3y.prodigy.com', 157),\n",
       " ('jbiagioni.npt.nuwc.navy.mil', 132),\n",
       " ('piweba1y.prodigy.com', 114),\n",
       " ('www-d4.proxy.aol.com', 91)]"
      ]
     },
     "execution_count": 13,
     "metadata": {},
     "output_type": "execute_result"
    }
   ],
   "source": [
    "Q3 = top5urls.take(5)\n",
    "Q3"
   ]
  },
  {
   "cell_type": "markdown",
   "metadata": {},
   "source": [
    "### 4. Quantidade de erros 404 por dia."
   ]
  },
  {
   "cell_type": "code",
   "execution_count": 14,
   "metadata": {},
   "outputs": [
    {
     "data": {
      "text/plain": [
       "UnionRDD[49] at union at <unknown>:0"
      ]
     },
     "execution_count": 14,
     "metadata": {},
     "output_type": "execute_result"
    }
   ],
   "source": [
    "def func404(line):\n",
    "    try: \n",
    "        code = line.split(\" \")[-2]\n",
    "        if code == \"404\": \n",
    "            return True\n",
    "    except: \n",
    "        pass\n",
    "    return False\n",
    "\n",
    "error404_jul95 = jul95.filter(func404) \\\n",
    "    .map(lambda line: line.split(\"[\")[1].split(':')[0]) \\\n",
    "    .map(lambda value: (value, 1)) \\\n",
    "    .reduceByKey(lambda a,b: a+b) \\\n",
    "    .sortBy(lambda x: x[0])\n",
    "\n",
    "error404_aug95 = aug95.filter(lambda line: line.split(\"[\")[1].split(\":\")[0] and \" 404 -\"  in line or \" 404 0\" in line ) \\\n",
    "    .map(lambda line: line.split(\"[\")[1].split(':')[0]) \\\n",
    "    .map(lambda value: (value, 1)) \\\n",
    "    .reduceByKey(lambda a,b: a+b) \\\n",
    "    .sortBy(lambda x: x[0])\n",
    "\n",
    "error404daily = error404_jul95 + error404_aug95\n",
    "\n",
    "error404daily.cache()"
   ]
  },
  {
   "cell_type": "markdown",
   "metadata": {},
   "source": [
    "#### Resultado"
   ]
  },
  {
   "cell_type": "code",
   "execution_count": 15,
   "metadata": {},
   "outputs": [
    {
     "data": {
      "text/plain": [
       "[('01/Jul/1995', 316),\n",
       " ('02/Jul/1995', 291),\n",
       " ('03/Jul/1995', 474),\n",
       " ('04/Jul/1995', 359),\n",
       " ('05/Jul/1995', 497),\n",
       " ('06/Jul/1995', 640),\n",
       " ('07/Jul/1995', 570),\n",
       " ('08/Jul/1995', 302),\n",
       " ('09/Jul/1995', 348),\n",
       " ('10/Jul/1995', 398),\n",
       " ('11/Jul/1995', 471),\n",
       " ('12/Jul/1995', 471),\n",
       " ('13/Jul/1995', 532),\n",
       " ('14/Jul/1995', 413),\n",
       " ('15/Jul/1995', 254),\n",
       " ('16/Jul/1995', 257),\n",
       " ('17/Jul/1995', 406),\n",
       " ('18/Jul/1995', 465),\n",
       " ('19/Jul/1995', 639),\n",
       " ('20/Jul/1995', 428),\n",
       " ('21/Jul/1995', 334),\n",
       " ('22/Jul/1995', 192),\n",
       " ('23/Jul/1995', 233),\n",
       " ('24/Jul/1995', 328),\n",
       " ('25/Jul/1995', 461),\n",
       " ('26/Jul/1995', 336),\n",
       " ('27/Jul/1995', 336),\n",
       " ('28/Jul/1995', 94),\n",
       " ('01/Aug/1995', 243),\n",
       " ('03/Aug/1995', 304),\n",
       " ('04/Aug/1995', 346),\n",
       " ('05/Aug/1995', 236),\n",
       " ('06/Aug/1995', 373),\n",
       " ('07/Aug/1995', 537),\n",
       " ('08/Aug/1995', 391),\n",
       " ('09/Aug/1995', 279),\n",
       " ('10/Aug/1995', 315),\n",
       " ('11/Aug/1995', 263),\n",
       " ('12/Aug/1995', 196),\n",
       " ('13/Aug/1995', 216),\n",
       " ('14/Aug/1995', 287),\n",
       " ('15/Aug/1995', 327),\n",
       " ('16/Aug/1995', 259),\n",
       " ('17/Aug/1995', 271),\n",
       " ('18/Aug/1995', 256),\n",
       " ('19/Aug/1995', 209),\n",
       " ('20/Aug/1995', 312),\n",
       " ('21/Aug/1995', 305),\n",
       " ('22/Aug/1995', 288),\n",
       " ('23/Aug/1995', 345),\n",
       " ('24/Aug/1995', 420),\n",
       " ('25/Aug/1995', 415),\n",
       " ('26/Aug/1995', 366),\n",
       " ('27/Aug/1995', 370),\n",
       " ('28/Aug/1995', 410),\n",
       " ('29/Aug/1995', 420),\n",
       " ('30/Aug/1995', 571),\n",
       " ('31/Aug/1995', 526)]"
      ]
     },
     "execution_count": 15,
     "metadata": {},
     "output_type": "execute_result"
    }
   ],
   "source": [
    "Q4 = error404daily.collect()\n",
    "Q4"
   ]
  },
  {
   "cell_type": "markdown",
   "metadata": {},
   "source": [
    "### 5. O total de bytes retornados."
   ]
  },
  {
   "cell_type": "code",
   "execution_count": 16,
   "metadata": {},
   "outputs": [],
   "source": [
    "def funcbytes(line):\n",
    "    try: \n",
    "        nbytes = int(line.split(\" \")[-1])\n",
    "        return True\n",
    "    except: \n",
    "        pass\n",
    "    return False\n",
    "\n",
    "totalbytes = rdd.filter(funcbytes) \\\n",
    "    .map(lambda line: line.split(\" \")[-1]) \\\n",
    "    .map(lambda num: int(num)) \\\n",
    "    .reduce(lambda a,b: a+b)"
   ]
  },
  {
   "cell_type": "markdown",
   "metadata": {},
   "source": [
    "#### Resultado"
   ]
  },
  {
   "cell_type": "code",
   "execution_count": 17,
   "metadata": {},
   "outputs": [
    {
     "data": {
      "text/plain": [
       "65524314915"
      ]
     },
     "execution_count": 17,
     "metadata": {},
     "output_type": "execute_result"
    }
   ],
   "source": [
    "Q5 = totalbytes\n",
    "Q5"
   ]
  },
  {
   "cell_type": "markdown",
   "metadata": {},
   "source": [
    "### Resumo das respostas:"
   ]
  },
  {
   "cell_type": "code",
   "execution_count": 18,
   "metadata": {},
   "outputs": [
    {
     "name": "stdout",
     "output_type": "stream",
     "text": [
      "1. Número de hosts únicos.\n",
      " 137979 \n",
      "\n",
      "2. O total de erros 404.\n",
      " 20901 \n",
      "\n",
      "3. Os 5 URLs que mais causaram erro 404.\n",
      "\n",
      "                          URLs  Qtd. erros 404\n",
      "0         hoohoo.ncsa.uiuc.edu             251\n",
      "1         piweba3y.prodigy.com             157\n",
      "2  jbiagioni.npt.nuwc.navy.mil             132\n",
      "3         piweba1y.prodigy.com             114\n",
      "4         www-d4.proxy.aol.com              91\n",
      "\n",
      "\n",
      "4. Quantidade de erros 404 por dia.\n",
      "\n",
      "            Dia  Qtd. erros 404\n",
      "0   01/Jul/1995             316\n",
      "1   02/Jul/1995             291\n",
      "2   03/Jul/1995             474\n",
      "3   04/Jul/1995             359\n",
      "4   05/Jul/1995             497\n",
      "5   06/Jul/1995             640\n",
      "6   07/Jul/1995             570\n",
      "7   08/Jul/1995             302\n",
      "8   09/Jul/1995             348\n",
      "9   10/Jul/1995             398\n",
      "10  11/Jul/1995             471\n",
      "11  12/Jul/1995             471\n",
      "12  13/Jul/1995             532\n",
      "13  14/Jul/1995             413\n",
      "14  15/Jul/1995             254\n",
      "15  16/Jul/1995             257\n",
      "16  17/Jul/1995             406\n",
      "17  18/Jul/1995             465\n",
      "18  19/Jul/1995             639\n",
      "19  20/Jul/1995             428\n",
      "20  21/Jul/1995             334\n",
      "21  22/Jul/1995             192\n",
      "22  23/Jul/1995             233\n",
      "23  24/Jul/1995             328\n",
      "24  25/Jul/1995             461\n",
      "25  26/Jul/1995             336\n",
      "26  27/Jul/1995             336\n",
      "27  28/Jul/1995              94\n",
      "28  01/Aug/1995             243\n",
      "29  03/Aug/1995             304\n",
      "30  04/Aug/1995             346\n",
      "31  05/Aug/1995             236\n",
      "32  06/Aug/1995             373\n",
      "33  07/Aug/1995             537\n",
      "34  08/Aug/1995             391\n",
      "35  09/Aug/1995             279\n",
      "36  10/Aug/1995             315\n",
      "37  11/Aug/1995             263\n",
      "38  12/Aug/1995             196\n",
      "39  13/Aug/1995             216\n",
      "40  14/Aug/1995             287\n",
      "41  15/Aug/1995             327\n",
      "42  16/Aug/1995             259\n",
      "43  17/Aug/1995             271\n",
      "44  18/Aug/1995             256\n",
      "45  19/Aug/1995             209\n",
      "46  20/Aug/1995             312\n",
      "47  21/Aug/1995             305\n",
      "48  22/Aug/1995             288\n",
      "49  23/Aug/1995             345\n",
      "50  24/Aug/1995             420\n",
      "51  25/Aug/1995             415\n",
      "52  26/Aug/1995             366\n",
      "53  27/Aug/1995             370\n",
      "54  28/Aug/1995             410\n",
      "55  29/Aug/1995             420\n",
      "56  30/Aug/1995             571\n",
      "57  31/Aug/1995             526\n",
      "\n",
      "\n",
      "5. O total de bytes retornados.\n",
      " 65524314915 \n",
      "\n"
     ]
    }
   ],
   "source": [
    "print(\"1. Número de hosts únicos.\\n\", Q1, \"\\n\")\n",
    "\n",
    "print(\"2. O total de erros 404.\\n\", Q2, \"\\n\")\n",
    "\n",
    "print(\"3. Os 5 URLs que mais causaram erro 404.\\n\")\n",
    "Q3_df = pd.DataFrame(Q3, columns=[\"URLs\",\"Qtd. erros 404\"])\n",
    "print(Q3_df)\n",
    "print(\"\\n\")\n",
    "\n",
    "print(\"4. Quantidade de erros 404 por dia.\\n\")\n",
    "Q4_df = pd.DataFrame(Q4, columns=[\"Dia\",\"Qtd. erros 404\"])\n",
    "print(Q4_df)\n",
    "print(\"\\n\")\n",
    "\n",
    "print(\"5. O total de bytes retornados.\\n\", Q5, \"\\n\")"
   ]
  },
  {
   "cell_type": "markdown",
   "metadata": {},
   "source": [
    "### Encerrando a sessão"
   ]
  },
  {
   "cell_type": "code",
   "execution_count": 19,
   "metadata": {},
   "outputs": [],
   "source": [
    "spark.stop()"
   ]
  },
  {
   "cell_type": "markdown",
   "metadata": {},
   "source": [
    "#### Qualquer dúvida, favor entrar em contato:\n",
    "#### leoleonardo1996@hotmail.com\n",
    "#### (11) 98783-3949"
   ]
  }
 ],
 "metadata": {
  "kernelspec": {
   "display_name": "Python 3",
   "language": "python",
   "name": "python3"
  },
  "language_info": {
   "codemirror_mode": {
    "name": "ipython",
    "version": 3
   },
   "file_extension": ".py",
   "mimetype": "text/x-python",
   "name": "python",
   "nbconvert_exporter": "python",
   "pygments_lexer": "ipython3",
   "version": "3.6.5"
  }
 },
 "nbformat": 4,
 "nbformat_minor": 2
}
